{
 "cells": [
  {
   "cell_type": "code",
   "execution_count": 55,
   "id": "afa9105b",
   "metadata": {},
   "outputs": [],
   "source": [
    "import xml.etree.ElementTree as ET \n",
    "import numpy as np\n",
    "from plotting_envir import Plotter"
   ]
  },
  {
   "cell_type": "markdown",
   "id": "f48a30a5-70c1-4157-ba8c-ebb69bd2dddd",
   "metadata": {},
   "source": [
    "# Am I reading correctly?"
   ]
  },
  {
   "cell_type": "code",
   "execution_count": 24,
   "id": "fbb56545",
   "metadata": {},
   "outputs": [],
   "source": [
    "def string_to_double_array(string):\n",
    "    \"\"\"Converts a string of doubles to an array of doubles.\"\"\"\n",
    "    return [float(x) for x in string.split()]\n",
    "\n",
    "def extract_loops(data_path, file_number, start_time, which_loop):\n",
    "    xmlfile = f\"{data_path}/{file_number}.dat\" \n",
    "    tree = ET.parse(xmlfile)  \n",
    "    root = tree.getroot() \n",
    "    inline_observables = root.find(\"InlineObservables\")\n",
    "    elem = inline_observables.findall(\"elem\")\n",
    "\n",
    "    #Wloops of timesize t0 and t1 over all r for the file being read\n",
    "    #has size num smoothings * r\n",
    "    all_t0 = []\n",
    "    all_t1 = []\n",
    "    \n",
    "    which_time = 0\n",
    "    for item in elem:\n",
    "        wloop = item.find(\"WilsonLoop\")\n",
    "        if wloop != None:    \n",
    "            individual_t0 = [] #has size r\n",
    "            individual_t1 = [] #has size r\n",
    "            \n",
    "            r_wilsloop2 = wloop.findall(f\"wils_loop{which_loop}/wloop{which_loop}/elem/r\")\n",
    "            loop_wilsloop2 = wloop.findall(f\"wils_loop{which_loop}/wloop{which_loop}/elem/loop\")\n",
    "            \n",
    "            #the reading is not correct!!!!!!! \n",
    "            potential = []\n",
    "            r = []\n",
    "            for i, loops in enumerate(loop_wilsloop2):\n",
    "                text_data = string_to_double_array(loops.text)\n",
    "                individual_t0.append(text_data[start_time[which_time]])\n",
    "                individual_t1.append(text_data[start_time[which_time]+1])\n",
    "                r.append(int(r_wilsloop2[i].text))\n",
    "            print(individual_t0)\n",
    "            print(\"\\n\")\n",
    "            all_t0.append(individual_t0)\n",
    "            all_t1.append(individual_t1)\n",
    "            \n",
    "            which_time = which_time + 1\n",
    " \n",
    "    if which_loop == 3:\n",
    "        chunk = int(len(r)/5)\n",
    "        r = np.hstack((np.linspace(1, chunk*2, chunk*2)*2**0.5, \n",
    "                      np.linspace(1, chunk, chunk)*5**0.5, \n",
    "                      np.linspace(1, chunk*2, chunk*2)*3**0.5))\n",
    "        \n",
    "    return np.array(r), all_t0, all_t1\n"
   ]
  },
  {
   "cell_type": "code",
   "execution_count": 25,
   "id": "5a88d7bc",
   "metadata": {},
   "outputs": [],
   "source": [
    "data_path = \"/home/lqcd/brian137/chroma_Wloops/gpu/data/wflow_to_0.5/data/\""
   ]
  },
  {
   "cell_type": "code",
   "execution_count": 26,
   "id": "e9e3221c",
   "metadata": {},
   "outputs": [
    {
     "ename": "TypeError",
     "evalue": "'int' object is not subscriptable",
     "output_type": "error",
     "traceback": [
      "\u001b[0;31m---------------------------------------------------------------------------\u001b[0m",
      "\u001b[0;31mTypeError\u001b[0m                                 Traceback (most recent call last)",
      "Cell \u001b[0;32mIn[26], line 1\u001b[0m\n\u001b[0;32m----> 1\u001b[0m r, t0, t1 \u001b[38;5;241m=\u001b[39m \u001b[43mextract_loops\u001b[49m\u001b[43m(\u001b[49m\u001b[43mdata_path\u001b[49m\u001b[43m,\u001b[49m\u001b[43m \u001b[49m\u001b[38;5;241;43m1250\u001b[39;49m\u001b[43m,\u001b[49m\u001b[43m \u001b[49m\u001b[38;5;241;43m5\u001b[39;49m\u001b[43m,\u001b[49m\u001b[43m \u001b[49m\u001b[38;5;241;43m3\u001b[39;49m\u001b[43m)\u001b[49m\n",
      "Cell \u001b[0;32mIn[24], line 32\u001b[0m, in \u001b[0;36mextract_loops\u001b[0;34m(data_path, file_number, start_time, which_loop)\u001b[0m\n\u001b[1;32m     30\u001b[0m \u001b[38;5;28;01mfor\u001b[39;00m i, loops \u001b[38;5;129;01min\u001b[39;00m \u001b[38;5;28menumerate\u001b[39m(loop_wilsloop2):\n\u001b[1;32m     31\u001b[0m     text_data \u001b[38;5;241m=\u001b[39m string_to_double_array(loops\u001b[38;5;241m.\u001b[39mtext)\n\u001b[0;32m---> 32\u001b[0m     individual_t0\u001b[38;5;241m.\u001b[39mappend(text_data[\u001b[43mstart_time\u001b[49m\u001b[43m[\u001b[49m\u001b[43mwhich_time\u001b[49m\u001b[43m]\u001b[49m])\n\u001b[1;32m     33\u001b[0m     individual_t1\u001b[38;5;241m.\u001b[39mappend(text_data[start_time[which_time]\u001b[38;5;241m+\u001b[39m\u001b[38;5;241m1\u001b[39m])\n\u001b[1;32m     34\u001b[0m     r\u001b[38;5;241m.\u001b[39mappend(\u001b[38;5;28mint\u001b[39m(r_wilsloop2[i]\u001b[38;5;241m.\u001b[39mtext))\n",
      "\u001b[0;31mTypeError\u001b[0m: 'int' object is not subscriptable"
     ]
    }
   ],
   "source": [
    "r, t0, t1 = extract_loops(data_path, 1250, [5,5,5,5], 3)"
   ]
  },
  {
   "cell_type": "markdown",
   "id": "4c4fd8ce-ae9b-4377-86af-a1e9afeb17dc",
   "metadata": {},
   "source": [
    "# How robust is the potential extraction over time separation?"
   ]
  },
  {
   "cell_type": "code",
   "execution_count": 79,
   "id": "5a1a1e21-9c89-4f58-8660-ebfc70de888c",
   "metadata": {},
   "outputs": [],
   "source": [
    "def extract_loops(data_path, file_number, start_time, which_loop, set_time_diff = False, wflow_smoothing = [0,0,0,0], scale = 1):\n",
    "    xmlfile = f\"{data_path}/{file_number}.dat\" \n",
    "    tree = ET.parse(xmlfile)  \n",
    "    root = tree.getroot() \n",
    "    inline_observables = root.find(\"InlineObservables\")\n",
    "    elem = inline_observables.findall(\"elem\")\n",
    "\n",
    "    #Wloops of timesize t0 and t1 over all r for the file being read\n",
    "    #has size num smoothings * r\n",
    "    all_t0 = []\n",
    "    all_t1 = []\n",
    "\n",
    "    if set_time_diff:\n",
    "        time_diff = np.int64(np.round(np.sqrt(np.array(wflow_smoothing)*8)))\n",
    "        time_diff[time_diff < 1] = 1\n",
    "    else:\n",
    "        time_diff = np.int64(np.ones(len(wflow_smoothing))*scale)\n",
    "\n",
    "    which_time = 0\n",
    "    for item in elem:\n",
    "        wloop = item.find(\"WilsonLoop\")\n",
    "        if wloop != None:    \n",
    "            individual_t0 = [] #has size r\n",
    "            individual_t1 = [] #has size r\n",
    "            \n",
    "            r_wilsloop2 = wloop.findall(f\"wils_loop{which_loop}/wloop{which_loop}/elem/r\")\n",
    "            loop_wilsloop2 = wloop.findall(f\"wils_loop{which_loop}/wloop{which_loop}/elem/loop\")\n",
    "            \n",
    "            potential = []\n",
    "            r = []\n",
    "            for i, loops in enumerate(loop_wilsloop2):\n",
    "                text_data = string_to_double_array(loops.text)\n",
    "                individual_t0.append(text_data[start_time[which_time]])\n",
    "                individual_t1.append(text_data[start_time[which_time]+time_diff[which_time]]) \n",
    "                r.append(int(r_wilsloop2[i].text))\n",
    "\n",
    "            which_time = which_time + 1\n",
    "            all_t0.append(individual_t0)\n",
    "            all_t1.append(individual_t1)\n",
    " \n",
    "\n",
    "    return np.array(r), all_t0, all_t1"
   ]
  },
  {
   "cell_type": "code",
   "execution_count": 80,
   "id": "1e32c15a-e35e-4b68-8ec6-aafc593f9b8d",
   "metadata": {},
   "outputs": [],
   "source": [
    "data_path = \"/home/lqcd/brian137/chroma_Wloops/gpu/data/wflow_to_0.5/data/\""
   ]
  },
  {
   "cell_type": "code",
   "execution_count": 81,
   "id": "1bcf5379-564c-446f-8f88-d553d1c4a7a7",
   "metadata": {},
   "outputs": [],
   "source": [
    "data = [extract_loops(data_path, 1250, [5,5,5,5], 2, set_time_diff = False, scale = scale) for scale in range(1,5)]\n",
    "#scale, (r, t0, t1), (wloop)"
   ]
  },
  {
   "cell_type": "code",
   "execution_count": 82,
   "id": "f62dba33-4e57-4090-af60-f620a1ab1e2b",
   "metadata": {},
   "outputs": [
    {
     "data": {
      "image/png": "[encoded data removed]",
      "text/plain": [
       "<Figure size 800x800 with 1 Axes>"
      ]
     },
     "metadata": {},
     "output_type": "display_data"
    }
   ],
   "source": [
    "which_smoothing = 0\n",
    "plotter = Plotter(f\"\", r\"r\", \"V[r]\"); ax = plotter.ax\n",
    "\n",
    "for scale in range(1, 5):\n",
    "    t0 = np.array(data[scale-1][1][which_smoothing])\n",
    "    t1 = np.array(data[scale-1][2][which_smoothing])\n",
    "    ax.scatter(data[scale-1][0]*0.09, np.log(abs(t0 / t1)), label = scale)\n",
    "plotter.show_legend()\n",
    "\n",
    "#the noise does not seem comprehensively worse"
   ]
  },
  {
   "cell_type": "code",
   "execution_count": null,
   "id": "fe151f04-5fba-4666-8995-45a16d5824f6",
   "metadata": {},
   "outputs": [],
   "source": []
  }
 ],
 "metadata": {
  "kernelspec": {
   "display_name": "Python 3 (ipykernel)",
   "language": "python",
   "name": "python3"
  },
  "language_info": {
   "codemirror_mode": {
    "name": "ipython",
    "version": 3
   },
   "file_extension": ".py",
   "mimetype": "text/x-python",
   "name": "python",
   "nbconvert_exporter": "python",
   "pygments_lexer": "ipython3",
   "version": "3.11.4"
  }
 },
 "nbformat": 4,
 "nbformat_minor": 5
}
